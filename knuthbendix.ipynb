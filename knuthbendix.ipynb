{
 "cells": [
  {
   "cell_type": "code",
   "execution_count": 368,
   "id": "e7f9d028-4a5a-400d-81dc-9c8aebd71893",
   "metadata": {},
   "outputs": [],
   "source": [
    "# String rewriting functions and the Knuth-Bendix completion algorithm\n",
    "# Algorithms can be found in String Rewriting Systems by Book & Otto, Springer-Verlag 1993\n",
    "# Peter Alspaugh, July 2025"
   ]
  },
  {
   "cell_type": "code",
   "execution_count": 369,
   "id": "44ea1735-11fb-47e3-aede-93916ddc1a6e",
   "metadata": {},
   "outputs": [],
   "source": [
    "# Remove all duplicates from a list\n",
    "def remduplicates(list):\n",
    "    for i in list:\n",
    "        count = 0\n",
    "        for j in list:\n",
    "            if i==j:\n",
    "                count += 1\n",
    "        if count>1:\n",
    "            for k in range(1,count):\n",
    "                list.remove(i)\n",
    "    return list\n",
    "\n",
    "# Remove all trivial rules x -> x to keep system Noetherian\n",
    "def remtrivial(list):\n",
    "    for i in list:\n",
    "        if i[0] == i[1]:\n",
    "            list.remove(i)\n",
    "    return list\n",
    "\n",
    "# Executes both remduplicates() and remtrivial() on a list\n",
    "def simplifyrules(list):\n",
    "    list = remtrivial(remduplicates(list))\n",
    "    return list"
   ]
  },
  {
   "cell_type": "code",
   "execution_count": 370,
   "id": "aa086cc2-cb9c-4587-b266-42cdfc417e6e",
   "metadata": {},
   "outputs": [],
   "source": [
    "# Sorts a list by length-lexicographic (shortlex) order: length first, then alphabetical order (default) or another alphabet order if one is provided\n",
    "def shortlex(list, order = None):\n",
    "    if order == None:\n",
    "        return sorted(list, key = lambda x: (len(x), x))\n",
    "    else:\n",
    "        rank = {c: i for i, c in enumerate(order)}\n",
    "        return sorted(list, key = lambda x: (len(x), [rank[c] for c in x]))"
   ]
  },
  {
   "cell_type": "code",
   "execution_count": 371,
   "id": "9d45137e-7b2c-40ea-a859-08af457afff4",
   "metadata": {},
   "outputs": [],
   "source": [
    "# Determine if input word is reduced according to input set of rewriting rule pairs\n",
    "def isreduced(rules, word):\n",
    "    for r in rules:\n",
    "        if r[0] in word:\n",
    "            return False\n",
    "    return True"
   ]
  },
  {
   "cell_type": "code",
   "execution_count": 372,
   "id": "0606b6cc-ccc8-405a-bdc6-8b9316fc8186",
   "metadata": {},
   "outputs": [],
   "source": [
    "# Given an input set of rewriting rule pairs, reduce an input word to an irreducible word according to those rules\n",
    "# Starts from the left of the word and the left of the rules list and rewrites subwords in that order\n",
    "def reduce(rules, word):\n",
    "    rules = simplifyrules(rules)\n",
    "    while not(isreduced(rules,word)):\n",
    "        for r in rules:\n",
    "            if r[0] in word:\n",
    "                pos = word.index(r[0])\n",
    "                word = word[:pos]+r[1]+word[pos+len(r[0]):]\n",
    "    return word"
   ]
  },
  {
   "cell_type": "code",
   "execution_count": 373,
   "id": "7cb7192e-9250-42ff-9f92-d39e17cb6eeb",
   "metadata": {},
   "outputs": [],
   "source": [
    "# Determine if rule set is normalized, meaning all right hand sides are irreducible and left hand sides are irreducible with respect to all other rules\n",
    "def isnormalized(rules):\n",
    "    for r in rules:\n",
    "        rules_sans = rules.copy()\n",
    "        rules_sans.remove(r)\n",
    "        if not(isreduced(rules_sans,r[0]) and isreduced(rules,r[1])):\n",
    "            return False\n",
    "    return True"
   ]
  },
  {
   "cell_type": "code",
   "execution_count": 374,
   "id": "34cbee7a-5885-4c67-8d75-e53a3f599139",
   "metadata": {},
   "outputs": [],
   "source": [
    "# Returns a normalized rule set with the same Thue congruence as the input rule set\n",
    "def normalize(rules, order = None):\n",
    "    rules = simplifyrules(rules)\n",
    "    while not(isnormalized(rules)):\n",
    "        for r in rules:\n",
    "            rules_sans = rules.copy()\n",
    "            rules_sans.remove(r)\n",
    "            r[1] = reduce(rules_sans,r[1])\n",
    "            rules = simplifyrules(rules)\n",
    "        for r in rules:\n",
    "            rules_sans = rules.copy()\n",
    "            rules_sans.remove(r)\n",
    "            new = shortlex([reduce(rules_sans,r[0]),r[1]],order)\n",
    "            new.reverse()\n",
    "            rules[rules.index(r)] = new\n",
    "            rules = simplifyrules(rules)\n",
    "    return rules"
   ]
  },
  {
   "cell_type": "code",
   "execution_count": 375,
   "id": "64d19982-c401-4a94-8f95-e50715216e96",
   "metadata": {},
   "outputs": [],
   "source": [
    "def overlaps(u,v):\n",
    "    list = []\n",
    "    for i in range(1,min(len(u),len(v))):\n",
    "        if u[len(u)-i:] == v[:i]:\n",
    "            list.append(u[:len(u)-i]+v)\n",
    "    for i in range(1,min(len(u),len(v))):\n",
    "        if v[len(v)-i:] == u[:i]:\n",
    "            list.append(v[:len(v)-i]+u)\n",
    "    return list"
   ]
  },
  {
   "cell_type": "code",
   "execution_count": 376,
   "id": "51f16b51-b017-4118-a072-1f9c9a38cf07",
   "metadata": {},
   "outputs": [],
   "source": [
    "# Tests if string rewriting system is locally confluent\n",
    "# Does this by overlapping the left-hand sides of all pairs of rewriting rules and checking if they reduce to the same irreducible\n",
    "def islocallyconfluent(rules):\n",
    "    for r in rules:\n",
    "        for s in rules:\n",
    "            list = overlaps(r[0],s[0])\n",
    "            if r[0] in s[0]:\n",
    "                list.append(s[0])\n",
    "            if s[0] in r[0]:\n",
    "                list.append(r[0])\n",
    "            for i in list:\n",
    "                reductions = []\n",
    "                irreducibles = []\n",
    "                for j in range(0,len(i)):\n",
    "                    if i[j:j+len(r[0])] == r[0]:\n",
    "                        reduc = i[:j]+r[1]+i[j+len(r[0]):]\n",
    "                        reductions.append(reduc)\n",
    "                    if i[j:j+len(s[0])] == s[0]:\n",
    "                        reduc = i[:j]+s[1]+i[j+len(s[0]):]\n",
    "                        reductions.append(reduc)\n",
    "                for j in reductions:\n",
    "                    irreducibles.append(reduce(rules,j))\n",
    "                if len(remduplicates(irreducibles)) != 1:\n",
    "                    return False\n",
    "    return True"
   ]
  },
  {
   "cell_type": "code",
   "execution_count": 377,
   "id": "a1c1e961-9ad4-45b0-878d-d9894ddf88de",
   "metadata": {},
   "outputs": [],
   "source": [
    "# Returns a complete and normalized rewriting system with the same Thue congruence as the rule set\n",
    "# Does this by adding in a rule y -> z whenever there is a string x such that x -> y, y -> z, and z < y according to the given order\n",
    "def knuthbendix(rules, order = None):\n",
    "    alreadyfound = rules\n",
    "    while not(islocallyconfluent(rules)):\n",
    "        rules = normalize(rules)\n",
    "        rules = simplifyrules(rules)\n",
    "        newrules = []\n",
    "        for r in rules:\n",
    "            for s in rules:\n",
    "                list = overlaps(r[0],s[0])\n",
    "                if r[0] in s[0]:\n",
    "                    list.append(s[0])\n",
    "                if s[0] in r[0]:\n",
    "                    list.append(r[0])\n",
    "                for i in list:\n",
    "                    reductions = []\n",
    "                    irreducibles = []\n",
    "                    for j in range(0,len(i)):\n",
    "                        if i[j:j+len(r[0])] == r[0]:\n",
    "                            reduc = i[:j]+r[1]+i[j+len(r[0]):]\n",
    "                            reductions.append(reduc)\n",
    "                        if i[j:j+len(s[0])] == s[0]:\n",
    "                            reduc = i[:j]+s[1]+i[j+len(s[0]):]\n",
    "                            reductions.append(reduc)\n",
    "                    for j in reductions:\n",
    "                        irreducibles.append(reduce(rules,j))\n",
    "                    irreducibles = remduplicates(irreducibles)\n",
    "                    irreducibles = shortlex(irreducibles,order)\n",
    "                    if len(irreducibles) != 1:\n",
    "                        for k in shortlex(irreducibles,order):\n",
    "                            if irreducibles.index(k) != 0:\n",
    "                                newrules.append([k,irreducibles[0]])\n",
    "        for i in newrules:\n",
    "            if not(i in alreadyfound):\n",
    "                rules.append(i)\n",
    "        alreadyfound.extend(newrules)\n",
    "    rules = normalize(rules)\n",
    "    rules = simplifyrules(rules)\n",
    "    return rules"
   ]
  },
  {
   "cell_type": "code",
   "execution_count": 381,
   "id": "6231782d-f82e-47d3-b771-d460a548d7b7",
   "metadata": {},
   "outputs": [
    {
     "name": "stdout",
     "output_type": "stream",
     "text": [
      "[['aa', 'a'], ['bb', 'b'], ['cc', 'c'], ['dd', 'd'], ['aba', 'a'], ['bab', 'b'], ['bcb', 'b'], ['cbc', 'c'], ['ca', 'ac'], ['cdc', 'c'], ['dcd', 'd'], ['da', 'ad'], ['db', 'bd'], ['acba', 'ac'], ['cbac', 'ac'], ['bdcb', 'bd'], ['dcbd', 'bd'], ['adcba', 'adc'], ['dcbad', 'bad']]\n"
     ]
    }
   ],
   "source": [
    "# Jones monoid on 5 strings rules\n",
    "j5 = [ [ \"aa\" , \"a\" ] , [ \"bb\" , \"b\" ] , [ \"cc\" , \"c\" ], [\"dd\" , \"d\"], [ \"aba\", \"a\" ] , [ \"bab\", \"b\" ] , [ \"bcb\", \"b\" ] , [ \"cbc\", \"c\" ] , [ \"ca\", \"ac\" ] , [ \"cdc\", \"c\" ] , [ \"dcd\", \"d\" ] ,  [ \"da\", \"ad\" ] , [ \"db\", \"bd\" ]]\n",
    "print(knuthbendix(j5))"
   ]
  },
  {
   "cell_type": "code",
   "execution_count": 382,
   "id": "80e7f16e-ea7f-4901-a344-bc28b1bd8559",
   "metadata": {},
   "outputs": [
    {
     "name": "stdout",
     "output_type": "stream",
     "text": [
      "[['aa', ''], ['bb', ''], ['cc', ''], ['dd', ''], ['cd', 'b'], ['bc', 'd'], ['cb', 'd'], ['bd', 'c'], ['dc', 'b'], ['db', 'c']]\n"
     ]
    }
   ],
   "source": [
    "# a \\freeprod S_4 rules\n",
    "M = [[\"aa\",\"\"],[\"bb\",\"\"],[\"cc\",\"\"],[\"dd\",\"\"],[\"bcd\",\"\"]]\n",
    "print(knuthbendix(M))"
   ]
  }
 ],
 "metadata": {
  "kernelspec": {
   "display_name": "Python 3 (ipykernel)",
   "language": "python",
   "name": "python3"
  },
  "language_info": {
   "codemirror_mode": {
    "name": "ipython",
    "version": 3
   },
   "file_extension": ".py",
   "mimetype": "text/x-python",
   "name": "python",
   "nbconvert_exporter": "python",
   "pygments_lexer": "ipython3",
   "version": "3.10.12"
  }
 },
 "nbformat": 4,
 "nbformat_minor": 5
}
